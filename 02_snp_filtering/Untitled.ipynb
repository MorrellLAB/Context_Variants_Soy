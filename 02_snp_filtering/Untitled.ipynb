{
 "cells": [
  {
   "cell_type": "code",
   "execution_count": 2,
   "metadata": {
    "collapsed": false
   },
   "outputs": [
    {
     "name": "stdout",
     "output_type": "stream",
     "text": [
      "scikit-allel 1.2.0\n"
     ]
    }
   ],
   "source": [
    "import numpy as np\n",
    "import scipy\n",
    "import pandas\n",
    "import matplotlib as mpl\n",
    "import matplotlib.pyplot as plt\n",
    "%matplotlib inline\n",
    "import seaborn as sns\n",
    "sns.set_style('white')\n",
    "sns.set_style('ticks')\n",
    "sns.set_context('notebook')\n",
    "import h5py\n",
    "import allel; print('scikit-allel', allel.__version__)"
   ]
  },
  {
   "cell_type": "code",
   "execution_count": 6,
   "metadata": {
    "collapsed": true
   },
   "outputs": [],
   "source": [
    "file = '/panfs/roc/groups/9/morrellp/shared/Projects/Context_Of_Mutations/analysis/de_novo/intersect/0002.vcf'"
   ]
  },
  {
   "cell_type": "code",
   "execution_count": 7,
   "metadata": {
    "collapsed": false
   },
   "outputs": [],
   "source": [
    "allel.vcf_to_hdf5(file,\n",
    "                  '/panfs/roc/groups/9/morrellp/shared/Projects/Context_Of_Mutations/analysis/de_novo/intersect/0002.h5',\n",
    "                  fields='*', \n",
    "                  overwrite=True)"
   ]
  },
  {
   "cell_type": "code",
   "execution_count": 8,
   "metadata": {
    "collapsed": true
   },
   "outputs": [],
   "source": [
    "callset = h5py.File('/panfs/roc/groups/9/morrellp/shared/Projects/Context_Of_Mutations/analysis/de_novo/intersect/0002.h5', mode='r')"
   ]
  },
  {
   "cell_type": "code",
   "execution_count": 10,
   "metadata": {
    "collapsed": false
   },
   "outputs": [],
   "source": [
    "variants = allel.VariantChunkedTable(callset['variants'], \n",
    "                                     names=['POS', 'REF', 'ALT', 'DP', 'MQ', 'QD', 'AC'])"
   ]
  },
  {
   "cell_type": "code",
   "execution_count": 11,
   "metadata": {
    "collapsed": true
   },
   "outputs": [],
   "source": [
    "callset = allel.read_vcf(file)\n",
    "gt = allel.GenotypeArray(callset['calldata/GT'])\n",
    "index = gt.n_samples\n",
    "samps = callset['samples']"
   ]
  },
  {
   "cell_type": "code",
   "execution_count": 13,
   "metadata": {
    "collapsed": false
   },
   "outputs": [
    {
     "name": "stdout",
     "output_type": "stream",
     "text": [
      "1: 2012BM7F223_\n",
      "2: 2012CM7F040P05_\n",
      "3: 2012CM7F040P06_\n",
      "4: 2012CM7F040P07_\n",
      "5: 2012CM8F030P02_\n",
      "6: 2012CM8F030P07_\n",
      "7: 2012CM8F030P09_\n",
      "8: 2012DM8F016P02_\n",
      "9: 4R30C22acr626MN13_\n",
      "10: 5R39C03Dr334cMN12_\n",
      "11: FN0112228.06.02.01.M5_\n",
      "12: FN0112885.02.06.03.M5_\n",
      "13: FN0131633.06.01.M4_\n",
      "14: FN0163764.04.01.M4_\n",
      "15: FN0164160.03.02.01.01.M6_\n",
      "16: FN0164472.x3.06.01.M5_\n",
      "17: FN0170228.07.35.01.M5_\n",
      "18: FN0170712.06.41.01.M5_\n",
      "19: FN0171501.01.02.M4_\n",
      "20: FN0172932.09.08.01.M5_\n",
      "21: FN0173217.03.09.01.M5_\n",
      "22: FN0175143.05.06.01.M5_\n",
      "23: FN0175501.x2.02.01.M5_\n",
      "24: FN0190069.01.01.M4_\n",
      "25: R18C55Dhaar437MN13_\n",
      "26: R52C55Dadr564MN13_\n",
      "27: RP8DM5r597MN13_\n"
     ]
    }
   ],
   "source": [
    "stats = np.ndarray(shape=(27,5), dtype=np.int32)\n",
    "for i in range(0, index):\n",
    "        stats.itemset((i, 0), i+1)\n",
    "        print(str(i+1) + ': ' + str(samps[i]))\n",
    "        stats.itemset((i, 1), gt[:,i].count_missing())\n",
    "        stats.itemset((i, 2), gt[:,i].count_het())\n",
    "        stats.itemset((i, 3), gt[:,i].count_hom_alt())\n",
    "        stats.itemset((i, 4), gt[:,i].count_het() + gt[:,i].count_hom_alt())\n",
    "        #print(str(toprint[0]) + '\\t' + str(toprint[1]) + '\\t' + str(toprint[2]) + '\\t' + str(toprint[3]) + '\\t' + str(toprint[4]))"
   ]
  },
  {
   "cell_type": "code",
   "execution_count": 14,
   "metadata": {
    "collapsed": false
   },
   "outputs": [
    {
     "name": "stdout",
     "output_type": "stream",
     "text": [
      "\tSample\tMissing\tHet\tHom_Alt\tTot_Alt\n"
     ]
    },
    {
     "data": {
      "text/plain": [
       "array([[ 1,  3,  0, 14, 14],\n",
       "       [ 2,  7,  0,  7,  7],\n",
       "       [ 3, 14,  0,  5,  5],\n",
       "       [ 4,  5,  0,  4,  4],\n",
       "       [ 5,  8,  0,  8,  8],\n",
       "       [ 6, 10,  0,  2,  2],\n",
       "       [ 7,  2,  0,  3,  3],\n",
       "       [ 8,  6,  0,  5,  5],\n",
       "       [ 9, 14,  0,  6,  6],\n",
       "       [10, 21,  0,  1,  1],\n",
       "       [11, 16,  0,  8,  8],\n",
       "       [12,  8,  0,  7,  7],\n",
       "       [13, 12,  0, 11, 11],\n",
       "       [14, 18,  0, 15, 15],\n",
       "       [15, 12,  0,  6,  6],\n",
       "       [16,  9,  0,  8,  8],\n",
       "       [17,  8,  0,  6,  6],\n",
       "       [18,  9,  0, 11, 11],\n",
       "       [19, 10,  0,  2,  2],\n",
       "       [20,  9,  0,  6,  6],\n",
       "       [21,  9,  0,  5,  5],\n",
       "       [22, 13,  0,  3,  3],\n",
       "       [23,  9,  0, 10, 10],\n",
       "       [24, 15,  0,  4,  4],\n",
       "       [25, 12,  0,  2,  2],\n",
       "       [26, 19,  0,  4,  4],\n",
       "       [27, 18,  0, 10, 10]], dtype=int32)"
      ]
     },
     "execution_count": 14,
     "metadata": {},
     "output_type": "execute_result"
    }
   ],
   "source": [
    "print('\\tSample\\tMissing\\tHet\\tHom_Alt\\tTot_Alt')\n",
    "stats"
   ]
  },
  {
   "cell_type": "code",
   "execution_count": 22,
   "metadata": {
    "collapsed": false
   },
   "outputs": [
    {
     "data": {
      "text/plain": [
       "<matplotlib.collections.PathCollection at 0x2b273dcc9588>"
      ]
     },
     "execution_count": 22,
     "metadata": {},
     "output_type": "execute_result"
    },
    {
     "data": {
      "image/png": "[encoded data removed]",
      "text/plain": [
       "<Figure size 432x288 with 1 Axes>"
      ]
     },
     "metadata": {},
     "output_type": "display_data"
    }
   ],
   "source": [
    "plt.scatter(stats[:,0], stats[:,4])"
   ]
  },
  {
   "cell_type": "code",
   "execution_count": null,
   "metadata": {
    "collapsed": true
   },
   "outputs": [],
   "source": []
  }
 ],
 "metadata": {
  "kernelspec": {
   "display_name": "Python 3.6",
   "language": "python",
   "name": "python36"
  },
  "language_info": {
   "codemirror_mode": {
    "name": "ipython",
    "version": 3
   },
   "file_extension": ".py",
   "mimetype": "text/x-python",
   "name": "python",
   "nbconvert_exporter": "python",
   "pygments_lexer": "ipython3",
   "version": "3.6.3"
  }
 },
 "nbformat": 4,
 "nbformat_minor": 0
}
